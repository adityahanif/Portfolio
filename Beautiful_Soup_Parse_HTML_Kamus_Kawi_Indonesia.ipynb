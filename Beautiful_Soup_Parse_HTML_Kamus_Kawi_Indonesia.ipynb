{
  "nbformat": 4,
  "nbformat_minor": 0,
  "metadata": {
    "colab": {
      "provenance": [],
      "authorship_tag": "ABX9TyPvXoEt0LuafMBLkkKp03H/"
    },
    "kernelspec": {
      "name": "python3",
      "display_name": "Python 3"
    },
    "language_info": {
      "name": "python"
    }
  },
  "cells": [
    {
      "cell_type": "markdown",
      "source": [
        "<h1>Kamus Bahasa Jawa</h1>\n",
        "<p>Dibuat oleh: <a href=\"https://linkedin.com/n/adityahanif/\">Aditya Hanif</a>.\n",
        "\n",
        "Pada kali ini saya akan membuat kamus bahasa kawi (bahasa jawa kuno) dengan bahan yang berasal dari website <a href=\"https://sastra.org/\">sastra.org</a>. Yang saya lakukan adalah dengan scrapping data yang terdapat pada website tersebut.\n",
        "\n",
        "Berikut adalah langkah-langkahnya.</p>\n",
        "\n",
        "<h2>1. Import Library</h2>\n",
        "<p>Library yang saya gunakan adalah Request, Re dan BeautifulSoup</p>"
      ],
      "metadata": {
        "id": "JBpU5u6QiW7G"
      }
    },
    {
      "cell_type": "code",
      "execution_count": 25,
      "metadata": {
        "id": "tzZGZPhPM_1-"
      },
      "outputs": [],
      "source": [
        "import requests\n",
        "from bs4 import BeautifulSoup\n",
        "import re"
      ]
    },
    {
      "cell_type": "markdown",
      "source": [
        "<h2>2. Listing URL</h2>\n",
        "\n",
        "<p>Mengumpulkan URL mana saja yang akan dijadikan sumber entry</p>"
      ],
      "metadata": {
        "id": "zp_sr1qcancP"
      }
    },
    {
      "cell_type": "code",
      "source": [
        "list_url = [\"https://www.sastra.org/bahasa-dan-budaya/kamus-dan-leksikon/2692-kawi-indonesia-wojowasito-1977-1019-a-c.html\",\n",
        "       \"https://www.sastra.org/bahasa-dan-budaya/kamus-dan-leksikon/2695-kawi-indonesia-wojowasito-1977-1019-d-k.html\",\n",
        "       \"https://www.sastra.org/bahasa-dan-budaya/kamus-dan-leksikon/2697-kawi-indonesia-wojowasito-1977-1019-l-p.html\",\n",
        "       \"https://www.sastra.org/bahasa-dan-budaya/kamus-dan-leksikon/2699-kawi-indonesia-wojowasito-1977-1019-r-t.html\",\n",
        "       \"https://www.sastra.org/bahasa-dan-budaya/kamus-dan-leksikon/3074-kawi-indonesia-wojowasito-1977-1019-u-y.html\"]"
      ],
      "metadata": {
        "id": "K3ont-TaarxZ"
      },
      "execution_count": 26,
      "outputs": []
    },
    {
      "cell_type": "markdown",
      "source": [
        "<h2>3. Membuat Fungsi Parsing</h2>\n",
        "<p>Agar dapat melakukan parsing tag div dan dl sekaligus pada semua url yang terdapat di list url</p>"
      ],
      "metadata": {
        "id": "7yqhU98If04i"
      }
    },
    {
      "cell_type": "code",
      "source": [
        "def parse(x):\n",
        "  result = \"\"\n",
        "  for index, url in enumerate(list_url):\n",
        "    page = requests.get(url)\n",
        "    soup = BeautifulSoup(page.content, 'html.parser')\n",
        "    div = soup.find(\"div\", id=\"mark_range\")\n",
        "    paragraphs = div.find_all('dl')\n",
        "    for para in paragraphs:\n",
        "      entry_text = para\n",
        "      result += str(entry_text)\n",
        "  return result\n"
      ],
      "metadata": {
        "id": "9fG6AJVPNNPF"
      },
      "execution_count": 27,
      "outputs": []
    },
    {
      "cell_type": "markdown",
      "source": [
        "<h2>4. Parsing HTML</h2>\n",
        "<p>Melakukan parsing html di semua URL menggunakan fungsi yang telah dibuat</p>"
      ],
      "metadata": {
        "id": "wKPfmV35gbhv"
      }
    },
    {
      "cell_type": "code",
      "source": [
        "kawi = parse(list_url)\n",
        "print(kawi[:500])"
      ],
      "metadata": {
        "colab": {
          "base_uri": "https://localhost:8080/"
        },
        "id": "TowqxN0a1did",
        "outputId": "4fd6b869-46bf-4525-febc-109a6594f24f"
      },
      "execution_count": 28,
      "outputs": [
        {
          "output_type": "stream",
          "name": "stdout",
          "text": [
            "<dl class=\"ysl-dl-hrz\">\n",
            "<dt>a</dt><dd>I. awalan katakerja aktif; misalnya: <i>gawe</i> → <i>agawe</i> berbuat, membuat; II. akhiran irrealis dengan arti: <em>agar supaya</em>, <em>hendak</em>, <em>dianggap sebagai</em>, <em>berharap</em>, misalnya: alun → <i>aluna</i> seperti ombak; III. awalan dengan arti: <em>tidak</em>, <em>tanpa</em>, misalnya: <i>wighnam</i> rintangan; <i>awighnam</i> tanpa rintangan.</dd>\n",
            "<dt>abab</dt><dd><i>mābab-abab</i> dalam aturan; teratur.</dd>\n",
            "<dt>abah</dt><dd><i>ab\n"
          ]
        }
      ]
    },
    {
      "cell_type": "markdown",
      "source": [
        "<h2>5. Membuat Fungsi Untuk Cleaning</h2>\n",
        "<p>Seluruh hasil yang telah dilakukan parsing belum sepenuhnya bersih serta masih menyisakan tag dl dan dt. Sebenarya tag tersebut bisa langsung dihilangkan di awal (saat membuat fungsi parsing) dengan cara menambahkan method .text.strip().\n",
        "Contoh seperti ini:\n",
        "\n",
        "&lt;dt&gt;abda&lt;/dt&gt;&lt;dd&gt;S. awan; musim hujan.&lt;/dd&gt;\n",
        "<br />\n",
        "&lt;dt&gt;diwangkara&lt;/dt&gt;&lt;dd&gt;matahari.&lt;/dd&gt;\n",
        "\n",
        "Bila tag diatas langsung dihilangkan dengan .text.strip() maka hasilnya adalah demikian\n",
        "\n",
        "abda S. awan; musim hujan.<br />\n",
        "diwangkara matahari.\n",
        "\n",
        "Sehingga akan lebih sulit untuk memberi tanda ':' sebagai pemisah kata dan artinya.\n",
        "\n",
        "Maka dari itu akan lebih mudah mengubah tag &lt;/dd&gt;&lt;dt&gt; menjadi tanda ':'\n",
        "\n",
        "Selain contoh di atas masih ada beberapa sisa tag HTML lain yang harus dibersihkan</p>"
      ],
      "metadata": {
        "id": "hao53XzZhU0j"
      }
    },
    {
      "cell_type": "code",
      "source": [
        "def clean(x):\n",
        "  x = re.sub(\"</dt><dd>\", \": \", x)\n",
        "  x = re.sub(\"<dt>\", \"\", x)\n",
        "  x = re.sub(\"</dd>\", \"\", x)\n",
        "  x = re.sub(\"<dd>\", \"\", x)\n",
        "  x = re.sub(\"<i>\", \"(\", x)\n",
        "  x = re.sub(\"</i>\", \")\", x)\n",
        "  x = re.sub(\"S.\", \"\", x)\n",
        "  x = re.sub(\"  \", \" \", x)\n",
        "  x = re.sub(\"\\<.*?\\>\",\"<>\",x)\n",
        "  x = re.sub(\"\\>.*?\\<\",\"><\",x)\n",
        "  x = re.sub(\"\\n\\n\", \"\", x)\n",
        "  x = re.sub(\"<>: \", \"\", x)\n",
        "  x = re.sub(\"<>\", \"\", x)\n",
        "  x = re.sub(\"\\[.*?\\]\",\"[]\", x)\n",
        "  x = re.sub(\"\\n\\n\", \" \", x)\n",
        "  x = re.sub(\"\\n \", \"\", x)\n",
        "  x = re.sub(\"\\r\\n\\r\", \"\", x)\n",
        "  x = re.sub(\"→ \", \"\", x)\n",
        "  return x"
      ],
      "metadata": {
        "id": "RBuB7dpeQ0Y5"
      },
      "execution_count": 29,
      "outputs": []
    },
    {
      "cell_type": "markdown",
      "source": [
        "<h2>6. Membuat Variabel Berisi Data Bersih</h2>\n",
        "<p>Setelah fungsi dibuat maka selanjutnya adalah membuat variabel baru bernama kamus, isinya adalah data yang telah dibersihkan dengan fungsi clean()</p>"
      ],
      "metadata": {
        "id": "hXD_mR-inKiu"
      }
    },
    {
      "cell_type": "code",
      "source": [
        "kamus = clean(kawi)\n",
        "kamus[:500]"
      ],
      "metadata": {
        "id": "zB9DbtEU14Lv",
        "colab": {
          "base_uri": "https://localhost:8080/",
          "height": 105
        },
        "outputId": "1a670f40-e718-48d0-ef49-c683b41f5d2f"
      },
      "execution_count": 30,
      "outputs": [
        {
          "output_type": "execute_result",
          "data": {
            "text/plain": [
              "'\\na: I. awalan katakerja aktif; misalnya: (gawe) (agawe) berbuat, membuat; II. akhiran irrealis dengan arti: , misalnya: (wighnam) rintangan; (awighnam) tanpa rintangan.\\nabab: (mābab-abab) dalam aturan; teratur.\\nabah: (abah-abah) pakaian kuda; abah-abah.\\nabala: lemah; lembek.\\nabalang: lempar; buang; (inabalangakěn) dilempar; dibuang.\\nābandha: Ikatan.\\nabar: (angabar-abar) bersinar-sinar.\\nabda: awan; musim hujan.\\nabdhi: lautan.\\nabdhikanyā: dewi Laksmi.\\naběn: (mengaběn) melempari.\\naběr: (angaběrakén'"
            ],
            "application/vnd.google.colaboratory.intrinsic+json": {
              "type": "string"
            }
          },
          "metadata": {},
          "execution_count": 30
        }
      ]
    },
    {
      "cell_type": "markdown",
      "source": [
        "<h2>7. Menyimpan Hasil</h2>\n",
        "<p>Hasil akan diekspor ke dalam bentuk file, dalam hal ini bisa berupa .txt maupun .html.\n",
        "\n",
        "Sebelum disimpan alangkah baiknya dibedakan format penulisan antara entri kata dan artinya. Untuk entri kata akan dicetak bold.\n",
        "\n",
        "Karenanya perlu dibuat fungsi terlebih dulu supaya setiap entri kata akan diapit tag &lt;b&gt;&lt;/b&gt; dan disimpan sebagai .html sehingga ketika dicopy ke Microsoft Word semua entry sudah berformat bold</p>"
      ],
      "metadata": {
        "id": "-jjv6erFoEOy"
      }
    },
    {
      "cell_type": "code",
      "source": [
        "# Fungsi untuk membuat teks tebal\n",
        "def bold_match(matchobj):\n",
        "    return \"<b>{}:</b>\".format(matchobj.group(1))\n",
        "\n",
        "# Menggunakan regular expression untuk mencari pola teks sebelum tanda \":\"\n",
        "final_result = re.sub(r\"^(.*?):\", bold_match, kamus, flags=re.MULTILINE)\n",
        "\n",
        "final_result = re.sub(\"<b>\", \"<br /><b>\", final_result)\n",
        "\n",
        "def capitalize(entrytext):\n",
        "    return entrytext.group(0).upper()\n",
        "def lower(entrytext):\n",
        "    return entrytext.group(0).lower()\n",
        "\n",
        "final_result = re.sub(r\">.\", capitalize, final_result)\n",
        "final_result = re.sub(r\"</b> .\", lower, final_result)\n",
        "final_result = re.sub(\"</b> i. \", \"</b> I. \", final_result)\n",
        "\n",
        "# Output\n",
        "with open('Kamus Kawi Indonesia Capitalized.html', 'w') as file:\n",
        "    file.write(final_result)"
      ],
      "metadata": {
        "id": "OR-e8Jb-t5tF"
      },
      "execution_count": 31,
      "outputs": []
    },
    {
      "cell_type": "markdown",
      "source": [
        "<h2>Final</h2>\n",
        "\n",
        "<p>Selanjutnya bisa diedit di Microsoft Word dengan beberapa penyesuaian seperti menambahkan pendahuluan, memasukkan indeks, dan lainnya.\n",
        "\n",
        "Adapun untuk filenya bisa didownload di sini:<br />\n",
        "<a href=\"https://github.com/adityahanif/portfolio/blob/main/file/Kamus%20Kawi%20Indonesia%20Capitalized.html/\">Kamus Kawi Indonesia HTML</a> (File Hasil Scrap Dari Proses Ini)<br />\n",
        "<a href=\"https://github.com/adityahanif/portfolio/blob/main/file/Kamus%20Kawi%20Indonesia%20(capitalized).pdf/\">Kamus Kawi Indonesia PDF</a> (File Akhir Yang Telah Diedit dan Berbentuk PDF)<br />\n",
        "<br />\n",
        "Kami ucapkan terima kasih banyak kepada <a href=\"https://sastra.org/\">sastra.org</a><br />\n",
        "<br />\n",
        "P.S. Hasil tidak dikomersilkan dan tidak untuk dikomersilkan oleh siapapun. Hanya untuk tujuan edukasi.\n",
        "</p>"
      ],
      "metadata": {
        "id": "eixKpQzmDWh1"
      }
    }
  ]
}
